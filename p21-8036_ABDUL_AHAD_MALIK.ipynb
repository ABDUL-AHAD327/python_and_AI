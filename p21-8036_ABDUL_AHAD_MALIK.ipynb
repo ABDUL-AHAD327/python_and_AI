from google.colab import drive
drive.mount('/content/drive')

#THIS IS THE FIRST ASSIGNNMENT FOR AI 
#P21-8036
#ABDUL AHAD MALIK
file = open(r"/content/drive/MyDrive/task02.txt","rt")


def count_words():
    f = file.read()
    words = 0

   
    words = len(f.split())

    print("Words = ", words)
    return words


def count_characters():
    List=["!","@","#","$","%","^","&",".","*","(",")","+","~","`","/","?",":",";","<",">","|"," ",",","-","\n"]
    file = open(r"/content/drive/MyDrive/task02.txt","rt")
    length=0

    while True:

        a = file.read(1)
        if not a:
            break

        if a not in List:
            length+=1


    print("Characters = " ,length)
    return length



def count_sentences():

    sentence=0
    file = open(r"/content/drive/MyDrive/task02.txt","rt")
    data = file.readlines()
    for line in data:
        word = line.split()
        a=str(word)
        for i in a:
            if i=="." or i == "!":
                sentence+=1
                continue
            
    print("Sentences = " ,sentence)
    return sentence
    


def readability_index():
    
    words = count_words()
    characters = count_characters()
    sentences = count_sentences()
    
    divide1 =  characters/ words  
    divide2 = words / sentences
    ans = 4.71 * divide1 + 0.5 * divide2 - 21.43
    print("Readability_index = ",ans)
    
    
readability_index()
