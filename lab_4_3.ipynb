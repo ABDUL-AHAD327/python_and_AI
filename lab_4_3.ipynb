{
 "cells": [
  {
   "cell_type": "code",
   "execution_count": null,
   "metadata": {},
   "outputs": [],
   "source": [
    "import networkx as nx\n",
    "import matplotlib.pyplot as plt\n",
    "import pandas as pd\n",
    "\n",
    "\n",
    "G = nx.Graph()\n",
    "df = pd.read_csv(\"C:/Users/hp/OneDrive/Desktop/VScode/AI lab/SimpleGraph.csv\")\n",
    "# df = df.dropna()\n",
    "# G = nx.from_pandas_edgelist(df, 'Source', 'Destination','Weight')\n",
    "\n",
    "# start_node = str(input(\"enter the starting node: \")).upper()\n",
    "# goal_node = str(input(\"enter the goal node: \")).upper()\n",
    "\n"
   ]
  }
 ],
 "metadata": {
  "language_info": {
   "name": "python"
  }
 },
 "nbformat": 4,
 "nbformat_minor": 2
}
